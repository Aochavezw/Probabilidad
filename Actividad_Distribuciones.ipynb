{
 "cells": [
  {
   "cell_type": "code",
   "execution_count": 33,
   "metadata": {},
   "outputs": [],
   "source": [
    "import scipy.stats as stats\n",
    "import pandas as pd\n",
    "import numpy as np\n",
    "import matplotlib.pyplot as plt\n",
    "# Distribuciones discretas\n",
    "uniform_disc = stats.randint(low=0, high=10) # k = 0, 1, ..., 9\n",
    "bernoulli = stats.bernoulli(p=0.4)\n",
    "binomial = stats.binom(n=50, p=0.4)\n",
    "hypergeom = stats.hypergeom(M=20, n=7, N=12) \n",
    "poisson = stats.poisson(mu=5) # mu es lo mismo que lambda\n",
    "\n",
    "\n",
    "# Distribuciones continuas\n",
    "uniform_cont = stats.uniform(loc=0, scale=10) \n",
    "normal = stats.norm(loc=0.0, scale=1.0) \n",
    "exponental = stats.expon(loc=2.0) "
   ]
  },
  {
   "cell_type": "code",
   "execution_count": 3,
   "metadata": {},
   "outputs": [],
   "source": [
    "import numpy as np\n",
    "import scipy as sp\n",
    "import scipy.stats as stats\n",
    "import matplotlib.pyplot as plt\n",
    "\n",
    "plt.style.use('seaborn-whitegrid')\n",
    "plt.style.use('seaborn-talk')\n",
    "\n",
    "def generate_label(param_names, param_values):\n",
    "    '''Generate parameter labels for the legend'''\n",
    "    params = [\"{}={}\".format(name,value) for name, value in zip(param_names, param_values)\n",
    "              if name is not None]\n",
    "    return \", \".join(params)\n",
    "\n",
    "def draw_pmf(ax, dist, param_names, param_values, xpts):\n",
    "    '''draw a pmf as part of a set of pmfs'''\n",
    "    label = generate_label(param_names, param_values)\n",
    "    ax.bar(xpts, \n",
    "           [dist(*param_values).pmf(x) for x in xpts], \n",
    "           label=label, \n",
    "           align='center',\n",
    "           color='grey')\n",
    "    \n",
    "def draw_pmf_grid(dist, param_names, param_values, xpts, height=2.5):\n",
    "    '''draw several pmfs for for various parameter values for a given distribution'''\n",
    "    figsize = (12, height * len(param_values))\n",
    "    fig = plt.figure(figsize=figsize)\n",
    "    for i, pv in enumerate(param_values, start=1):\n",
    "        if i == 1:\n",
    "            ax = ax1 = fig.add_subplot(len(param_values), 1, i)\n",
    "        else:\n",
    "            ax = fig.add_subplot(len(param_values), 1, i, sharey=ax1)\n",
    "        draw_pmf(ax, dist, param_names, pv, xpts)\n",
    "        ax.set_ylabel('p')\n",
    "        ax.set_ylim(bottom=0)\n",
    "        ax.set_xlim(left=min(xpts) - 0.5, right=max(xpts) + 0.5)\n",
    "        ax.legend(frameon=True)\n",
    "        plt.xticks(np.arange(min(xpts), np.ceil(max(xpts))+1)) ## force integer ticks\n",
    "    plt.show()\n",
    "\n",
    "def draw_pdf(ax, dist, param_names, param_values, xpts):\n",
    "    '''Dibujar una PDF'''\n",
    "    label = generate_label(param_names, param_values)\n",
    "    ax.plot(xpts, [dist(*param_values).pdf(x) for x in xpts], label=label, linewidth=2)\n",
    "    \n",
    "def draw_cdf(ax, dist, param_names, param_values, xpts):\n",
    "    label = generate_label(param_names, param_values)\n",
    "    ax.plot(xpts, [dist(*param_values).cdf(x) for x in xpts], label=label, linewidth=2)  \n",
    "\n",
    "def draw_continuous_distributions(dist, param_names, param_values, xmin, xmax, figsize=(8,6)):\n",
    "    '''Dibujar varias PDFs'''   \n",
    "    fig, axs = plt.subplots(1, 2, figsize=(12, 4))\n",
    "    xpts = np.linspace(xmin, xmax, 200)\n",
    "    for pv in param_values:\n",
    "        draw_cdf(axs[0], dist, param_names, pv, xpts)\n",
    "        draw_pdf(axs[1], dist, param_names, pv, xpts)\n",
    "    axs[0].set_ylabel('Distribución Acumulada')\n",
    "    axs[1].set_ylabel('Densidad de Probabilidad')\n",
    "    axs[0].legend()\n",
    "    axs[1].legend()"
   ]
  },
  {
   "cell_type": "markdown",
   "metadata": {},
   "source": [
    "# Ejercicio 1\n",
    "### Considerar un dado de 20 caras para calcular las siguientes probabilidades:\n",
    "- P(Obtener un número entre 6 y 9)\n",
    "- P(Obtener al menos 12)\n",
    "- P(Obtener 3 o menos)\n",
    "- Graficar la Función de Densidad de Probabilidad"
   ]
  },
  {
   "cell_type": "code",
   "execution_count": 61,
   "metadata": {},
   "outputs": [
    {
     "name": "stdout",
     "output_type": "stream",
     "text": [
      "Probabilidad de obtener un número entre 6 y 9:  0.2\n",
      "Probabilidad de obtener al menos 12:  0.45\n",
      "Probabilidad de obtener 3 o menos:  0.15\n"
     ]
    },
    {
     "data": {
      "image/png": "[encoded data removed]",
      "text/plain": [
       "<Figure size 864x180 with 1 Axes>"
      ]
     },
     "metadata": {},
     "output_type": "display_data"
    }
   ],
   "source": [
    "uniform_disc = stats.randint(low=1,high=21)\n",
    "\n",
    "#1.1\n",
    "p_between_6_an_9=uniform_disc.cdf(9)-uniform_disc.cdf(5)\n",
    "print('Probabilidad de obtener un número entre 6 y 9: ', round(p_between_6_an_9,2))\n",
    "\n",
    "#1.2\n",
    "p_between_12_an_20=1-uniform_disc.cdf(11)\n",
    "print('Probabilidad de obtener al menos 12: ', round(p_between_12_an_20,2))\n",
    "\n",
    "#1.3\n",
    "p_less_3=uniform_disc.cdf(3)\n",
    "print('Probabilidad de obtener 3 o menos: ', round(p_less_3,2))\n",
    "\n",
    "#1.4\n",
    "draw_pmf_grid(stats.randint, \n",
    "              param_names=('low', 'high'), \n",
    "              param_values=[(1, 21)],\n",
    "              xpts=[x+1 for x in range(23)])"
   ]
  },
  {
   "cell_type": "markdown",
   "metadata": {},
   "source": [
    "# Ejercicio 2\n",
    "### El apagador de una casa funciona 1 de 5 veces y al accionarlo 15 veces calcular la probabilidad de:\n",
    "- P(Funcione 9 veces)\n",
    "- P(Funcione menos de 4 veces)\n",
    "- P(Funcione 3 o más veces)\n",
    "- Graficar la Función de Densidad de Probabilidad\n"
   ]
  },
  {
   "cell_type": "code",
   "execution_count": 64,
   "metadata": {},
   "outputs": [
    {
     "name": "stdout",
     "output_type": "stream",
     "text": [
      "La probabilidad de que el apagador funcione 9 veces es:  0.000672\n",
      "La probabilidad de que el apagador funciones menos de 4 veces (sin incluir el 4) es:  0.648162\n",
      "La probabilidad de que el apagador funcione 3 o más veces es:  0.6019767907450877\n"
     ]
    },
    {
     "data": {
      "image/png": "[encoded data removed]",
      "text/plain": [
       "<Figure size 864x180 with 1 Axes>"
      ]
     },
     "metadata": {},
     "output_type": "display_data"
    }
   ],
   "source": [
    "binomial = stats.binom(n=15, p=1/5)\n",
    "\n",
    "works_9_times=round(binomial.pmf(9),6)\n",
    "print('La probabilidad de que el apagador funcione 9 veces es: ', works_9_times)\n",
    "\n",
    "works_less_4=round(binomial.cdf(3),6)\n",
    "print('La probabilidad de que el apagador funciones menos de 4 veces (sin incluir el 4) es: ', works_less_4)\n",
    "\n",
    "works_3_more=1-binomial.cdf(2)\n",
    "print('La probabilidad de que el apagador funcione 3 o más veces es: ', works_3_more)\n",
    "\n",
    "draw_pmf_grid(stats.binom, \n",
    "              param_names=('low', 'high'), \n",
    "              param_values=[(15, 1/5)],\n",
    "              xpts=[x for x in range(23)])"
   ]
  },
  {
   "cell_type": "markdown",
   "metadata": {},
   "source": [
    "# Ejercicio 3\n",
    "### En una línea de producción se estrellan 3 vitrales por hora, clacular las probabilidades de:\n",
    "- P(Estrellar un vitral por hora)\n",
    "- P(Estrellar entre 4 y 7 por hora)\n",
    "- P(Estrellar menos de 6 por hora)\n",
    "- Graficar la Función de Densidad de Probabilidad\n"
   ]
  },
  {
   "cell_type": "code",
   "execution_count": 63,
   "metadata": {},
   "outputs": [
    {
     "name": "stdout",
     "output_type": "stream",
     "text": [
      "estrellar un vitral por hora:  0.14936120510359185\n",
      "estrellar un vitral entre 4 y 7 veces:  0.3408636073614113\n",
      "estrellar un vitral menos de 6 veces:  0.9160820579686966\n"
     ]
    },
    {
     "data": {
      "image/png": "[encoded data removed]",
      "text/plain": [
       "<Figure size 864x180 with 1 Axes>"
      ]
     },
     "metadata": {},
     "output_type": "display_data"
    }
   ],
   "source": [
    "poisson = stats.poisson(mu=3) # mu es lo mismo que lambda\n",
    "\n",
    "breaks_1=poisson.pmf(1)\n",
    "print('estrellar un vitral por hora: ',breaks_1)\n",
    "breaks4_7=poisson.cdf(7)-poisson.cdf(3)\n",
    "print('estrellar un vitral entre 4 y 7 veces: ',breaks4_7)\n",
    "break_less_6=poisson.cdf(5)\n",
    "print('estrellar un vitral menos de 6 veces: ',break_less_6)\n",
    "draw_pmf_grid(stats.poisson, \n",
    "              param_names=(r'$\\lambda$',), \n",
    "              param_values=[(3,)],\n",
    "              xpts=[x for x in range(23)])"
   ]
  },
  {
   "cell_type": "markdown",
   "metadata": {},
   "source": [
    "# Ejercicio 4\n",
    "### El documento sqft.csv, contiene el área en pies cuadrados (sqft) de un conjunto de hogares, con esta información calcular:\n",
    "- P(Una casa posea 830 +/- 25 sqft)\n",
    "- P(Una casa posea más de 3000 sqft)\n",
    "- P(Una casa posea menos de 275 sqft)\n",
    "- Graficar la Función de Densidad de Probabilidad\n"
   ]
  },
  {
   "cell_type": "code",
   "execution_count": 67,
   "metadata": {},
   "outputs": [
    {
     "name": "stdout",
     "output_type": "stream",
     "text": [
      "Probabilidad de que una casa posea 830 +/- 25 sqft:  0.3694\n",
      "Probabilidad de que una casa posea más de 3000 sqft: 6.188705650167492e-05\n",
      "Probabilidad de que una casa posea menos de 275 sqft:  0.0010030353476081443\n"
     ]
    },
    {
     "data": {
      "text/plain": [
       "array([[<AxesSubplot:title={'center':'sqft'}>]], dtype=object)"
      ]
     },
     "execution_count": 67,
     "metadata": {},
     "output_type": "execute_result"
    },
    {
     "data": {
      "image/png": "[encoded data removed]",
      "text/plain": [
       "<Figure size 748.8x514.8 with 1 Axes>"
      ]
     },
     "metadata": {},
     "output_type": "display_data"
    }
   ],
   "source": [
    "sqfts=pd.read_csv('data//sqft.csv')\n",
    "#sqfts.hist(bins=100) dado el histograma podemos inferir que los pies cuadrados de los conjuntos de hogares siguen una distribucion normal, con las siguientes medias\n",
    "mu=round(sqfts['sqft'].mean())\n",
    "std=round(sqfts['sqft'].std())\n",
    "norm=stats.norm(mu,std)\n",
    "entre_830=norm.cdf(855)-norm.cdf(805)\n",
    "print('Probabilidad de que una casa posea 830 +/- 25 sqft: ',round(entre_830,6)*100)\n",
    "mas_3000=1-norm.cdf(3000)\n",
    "print('Probabilidad de que una casa posea más de 3000 sqft:',mas_3000*100)\n",
    "menos_275=norm.cdf(275)\n",
    "print('Probabilidad de que una casa posea menos de 275 sqft: ',menos_275*100)\n",
    "\n",
    "sqfts.hist(bins=1000)\n"
   ]
  },
  {
   "cell_type": "markdown",
   "metadata": {},
   "source": [
    "# Ejercicio 5\n",
    "#### Un mecanógrafo comete una media de 2 errores por página ¿Cuál es la probabilidad de que una página concreta no tenga errores?\n",
    "- Pista: Se trata de la tasa de errores por página.\n"
   ]
  },
  {
   "cell_type": "code",
   "execution_count": 69,
   "metadata": {},
   "outputs": [
    {
     "data": {
      "text/plain": [
       "0.1353352832366127"
      ]
     },
     "execution_count": 69,
     "metadata": {},
     "output_type": "execute_result"
    }
   ],
   "source": [
    "poisson=stats.poisson(2)\n",
    "\n",
    "pag=poisson.pmf(0)\n",
    "pag\n"
   ]
  },
  {
   "cell_type": "markdown",
   "metadata": {},
   "source": [
    "#### Los componentes se embalan en cajas de 20. La probabilidad de que un componente individual sea defectuoso es del 10%. Calcula las siguientes probabilidades:\n",
    "- Que una caja contenga exactamente 2 componentes defectuosos\n",
    "- Pista: 20 componentes independientes con un estado binario: normal o defectuoso.\n",
    "- Qué una caja contenga máximo 2 componentes defectuosos\n",
    "- Pista: Encuentra todas las posibilidades de que haya al menos 2 componentes defectuosos.\n"
   ]
  },
  {
   "cell_type": "code",
   "execution_count": 70,
   "metadata": {},
   "outputs": [
    {
     "name": "stdout",
     "output_type": "stream",
     "text": [
      "Que una caja contenga exactamente 2 componentes defectuosos:  0.28517980706429846\n",
      "Que una caja contenga máximo 2 componentes defectuosos:  0.6769268051894659\n"
     ]
    }
   ],
   "source": [
    "binomial=stats.binom(n=20,p=.1)\n",
    "\n",
    "componentes_2=binomial.pmf(2)\n",
    "print('Que una caja contenga exactamente 2 componentes defectuosos: ', componentes_2)\n",
    "\n",
    "max_2_componentes=binomial.cdf(2)\n",
    "print('Que una caja contenga máximo 2 componentes defectuosos: ', max_2_componentes)\n",
    "\n"
   ]
  },
  {
   "cell_type": "markdown",
   "metadata": {},
   "source": [
    "#### Los clientes llegan a un bar local a un ritmo de 30 por hora. ¿Cuál es la probabilidad de que el portero pueda tomarse un descanso de tres minutos para ir al baño sin perder al siguiente cliente?\n",
    "- Pista 1: Reducir la tasa de persona/hora a persona/minuto\n",
    "- Pista 2: La probabilidad del tiempo antes de que ocurra el evento sigue una distribución exponencial."
   ]
  },
  {
   "cell_type": "code",
   "execution_count": 72,
   "metadata": {},
   "outputs": [
    {
     "name": "stdout",
     "output_type": "stream",
     "text": [
      "probabilidad de que el portero pueda tomarse un descanso de 3 minutos:  0.08208499862389884\n"
     ]
    }
   ],
   "source": [
    "expo=stats.expon(0.5)\n",
    "print('probabilidad de que el portero pueda tomarse un descanso de 3 minutos: ', 1-expo.cdf(3))\n",
    "\n",
    "#se calcula la probabilidad de que NO lleguen clientes en un periodo de 3 minutos o que el siguiente cliente llegue despues del minuto 3: \n",
    "# 1-P(el siguiente cliente llegue en un periodo de 3 minutos)= 1-cdf(3)"
   ]
  },
  {
   "cell_type": "markdown",
   "metadata": {},
   "source": [
    "# Ejercicio 6\n",
    "#### Tienes que encontrar a una persona alta, de al menos 1,80 metros, para que te ayude a alcanzar un tarro de galletas. El 8% de la población mide 1,80 m o más, y la gente pasa de media dos veces por minuto. Si esperas en la acera, ¿cuál es la probabilidad de que tengas que esperar más de diez minutos para conseguir unas galletas?\n",
    "- Pista 1: Halla la tasa de número de personas altas/minuto.\n",
    "- Pista 2: El problema se reduce a una función de distribución exponencial.\n"
   ]
  },
  {
   "cell_type": "code",
   "execution_count": 76,
   "metadata": {},
   "outputs": [
    {
     "name": "stdout",
     "output_type": "stream",
     "text": [
      "probabilidad de esperar mas de diez minutos para conseguir galletas:  2.6837010232201307e-05\n"
     ]
    }
   ],
   "source": [
    "print('probabilidad de esperar mas de diez minutos para conseguir galletas: ', (1-stats.expon(2).cdf(10))*0.08)"
   ]
  },
  {
   "cell_type": "markdown",
   "metadata": {},
   "source": [
    "#### Un pasajero apresurado llegará varios minutos tarde a un vuelo programado para las 10 de la mañana a Nueva York. Sin embargo, es posible que llegue al vuelo, ya que el embarque siempre se permite hasta las 10:10 A.M., y a veces se permite el embarque hasta las 10:30 AM. Suponiendo que la hora de finalización del intervalo de embarque se distribuye uniformemente sobre los límites anteriores, encuentre la probabilidad de que el pasajero llegue a su vuelo, suponiendo que llega a la puerta de embarque a las 10:25."
   ]
  },
  {
   "cell_type": "code",
   "execution_count": 78,
   "metadata": {},
   "outputs": [
    {
     "name": "stdout",
     "output_type": "stream",
     "text": [
      "Probabilidad de alcanzar el vuelo suponiendo que llega al embarque 10:25:  0.25\n"
     ]
    }
   ],
   "source": [
    "uniforme=stats.randint(low=0, high=20)\n",
    "\n",
    "print('Probabilidad de alcanzar el vuelo suponiendo que llega al embarque 10:25: ', uniforme.cdf(20)-uniforme.cdf(14))\n",
    "\n",
    "#dado que que llega 10:25 el vuelo puede salir 10:25,26,27,28,29,30\n",
    "\n"
   ]
  },
  {
   "cell_type": "markdown",
   "metadata": {},
   "source": [
    "# Ejercicio 7\n",
    "#### Tu gato empieza a pedir la cena a las 3:30 todos los días, y sospechas que maúlla a un ritmo fijo. Has observado que aproximadamente una quinta parte de las veces tu gato no maúlla hasta las 3:40, lo que te da 10 minutos inesperados de tranquilidad. ¿Cuál es la probabilidad de que tu gato te deje tranquilo durante 30 minutos?\n",
    "- Pista : Primero encuentra el parámetro de la distribución, y luego utiliza el parámetro que has encontrado para calcular la probabilidad desconocida.\n",
    "\n"
   ]
  },
  {
   "cell_type": "code",
   "execution_count": 79,
   "metadata": {},
   "outputs": [
    {
     "data": {
      "text/plain": [
       "0.0010916410041039767"
      ]
     },
     "execution_count": 79,
     "metadata": {},
     "output_type": "execute_result"
    }
   ],
   "source": [
    "poisson=stats.poisson(1/5)\n",
    "poisson.pmf(3)\n"
   ]
  },
  {
   "cell_type": "markdown",
   "metadata": {},
   "source": [
    "#### De alguna manera, has acabado con dos tipos de tenedores. Están los tenedores buenos, que son grandes y sirven para un bocado sano, pero también están estos pequeños y finos que no entiendes muy bien para qué sirven, probablemente deberías deshacerte de ellos. Necesitas dos tenedores para ti y tu pareja, y coge un puñado de 5. Si hay 14 tenedores en el cajón, de los cuales la mitad son del tipo bueno, ¿cuál es la probabilidad de que tengas al menos los dos tenedores buenos que necesitas?\n",
    "- Pista 1: Este es un problema de distribución hipogeométrica.\n",
    "- Pista 2: Descomponga todas las posibilidades de tener al menos dos tenedores buenos, es decir, 2 tenedores buenos, 3, 4 y 5."
   ]
  },
  {
   "cell_type": "code",
   "execution_count": 115,
   "metadata": {},
   "outputs": [
    {
     "name": "stdout",
     "output_type": "stream",
     "text": [
      "0.6689976689976695\n"
     ]
    },
    {
     "data": {
      "text/plain": [
       "0.6689976689976695"
      ]
     },
     "execution_count": 115,
     "metadata": {},
     "output_type": "execute_result"
    }
   ],
   "source": [
    "hypergeom = stats.nhypergeom(M=14, n=7, r=5) \n",
    "\n",
    "print(hypergeom.cdf(5)-hypergeom.cdf(1))\n",
    "\n",
    "hypergeom.pmf(2)+hypergeom.pmf(3)+hypergeom.pmf(4)+hypergeom.pmf(5)"
   ]
  },
  {
   "cell_type": "markdown",
   "metadata": {},
   "source": [
    "# Ejercicio 8\n",
    "#### De los alumnos de una clase, el 60% son genios, el 70% aman el chocolate y el 40% entran en ambas categorías. Determina la probabilidad de que un alumno seleccionado al azar no sea ni un genio ni un amante del chocolate.\n",
    "- Pista: Es de tipo conjunto\n",
    "\n"
   ]
  },
  {
   "cell_type": "code",
   "execution_count": 84,
   "metadata": {},
   "outputs": [
    {
     "name": "stdout",
     "output_type": "stream",
     "text": [
      "probabilidad de que no es genio ni ama el chocolate:  0.1000000000000002\n"
     ]
    }
   ],
   "source": [
    "G=.6\n",
    "C=.7\n",
    "GnC=.4\n",
    "\n",
    "print('probabilidad de que no es genio ni ama el chocolate: ', 1-(.6+.7-.4))\n"
   ]
  },
  {
   "cell_type": "markdown",
   "metadata": {},
   "source": [
    "#### Se lanza tres veces, de forma independiente, un dado justo de 6 caras. ¿Qué es más probable: una suma de 11 o una suma de 12?\n"
   ]
  },
  {
   "cell_type": "code",
   "execution_count": 109,
   "metadata": {},
   "outputs": [
    {
     "name": "stdout",
     "output_type": "stream",
     "text": [
      "la probabilidad de que la suma sea 11 es mayor a la probabilidad de que la suma sea 12\n"
     ]
    }
   ],
   "source": [
    "from math import factorial\n",
    "\n",
    "#P de que la suma sea 12: 6 + 5 + 1 ; 6 + 4 + 2; 5 + 4 + 3; -> cada opcion tiene 6 formas de repetirse 3!       6 + 3 + 3; 5 + 5 + 2;   cada opcion tiene 3 formas de repetirse 3!/2\n",
    "\n",
    "#                         4 + 4 + 4; -> solo tiene una opción de repetirse total = 25 \n",
    "#P de que la suma sea 11: 6 + 4 + 1 ; 6 + 3 + 2; 5 + 4 + 2; -> cada opcion tiene 6 formas de repetirse 3!       5 + 5 + 1; 5 + 3 + 3; 4 + 4 + 3;  cada opcion tiene 3 formas de repetirse 3!/2 total = 27            \n",
    "\n",
    "omega= 6**3\n",
    "P_suma_12= ((3*(factorial(3))) + 2*(factorial(2)/2) + 1*(factorial(3)/6))/omega\n",
    "P_suma_11= (3*(factorial(3)) + 3*(factorial(2)/2))/omega\n",
    "\n",
    "if P_suma_12>P_suma_11:\n",
    "    print('la probabilidad de que la suma sea 12 es mayor a la probabilidad de que la suma sea 11')\n",
    "else:\n",
    "    print('la probabilidad de que la suma sea 11 es mayor a la probabilidad de que la suma sea 12')\n",
    "\n"
   ]
  },
  {
   "cell_type": "markdown",
   "metadata": {},
   "source": [
    "#### Hay que repartir 90 alumnos al azar en 3 clases de igual tamaño. Joe y Jane son dos de los estudiantes. ¿Cuál es la probabilidad de que acaben en la misma clase?\n"
   ]
  },
  {
   "cell_type": "code",
   "execution_count": 110,
   "metadata": {},
   "outputs": [
    {
     "data": {
      "text/plain": [
       "0.3333333333333333"
      ]
     },
     "execution_count": 110,
     "metadata": {},
     "output_type": "execute_result"
    }
   ],
   "source": [
    "#hay 9 configuraciones en las que Joe y Jane pueden quedar en los diferentes grupos: 3^3  ya que tanto joel como jane tiene la misma posibilidad de ir a cualquier grupo\n",
    "\n",
    "omega=9\n",
    "grupoos_juntos=3\n",
    "\n",
    "Probabilidad_mismaclase=3/9\n",
    "Probabilidad_mismaclase"
   ]
  },
  {
   "cell_type": "markdown",
   "metadata": {},
   "source": [
    "#### Se reparte una baraja bien barajada de 52 cartas a 4 jugadores. Encuentra la probabilidad de que cada uno de los jugadores obtenga un as.\n",
    "- Pista: Los últimos tres son de tipo combinatoria"
   ]
  },
  {
   "cell_type": "code",
   "execution_count": 145,
   "metadata": {},
   "outputs": [
    {
     "name": "stdout",
     "output_type": "stream",
     "text": [
      "La probabilidad de que a cada jugador le salga un as es de :  0.10549819927971188\n"
     ]
    }
   ],
   "source": [
    "def combinaciones(m,n):\n",
    "    from math import factorial\n",
    "    return(int(factorial(m)/(factorial(m-n)*factorial(n))))\n",
    "\n",
    "omega= combinaciones(52,4)\n",
    "As= 13**4\n",
    "\n",
    "print('La probabilidad de que a cada jugador le salga un as es de : ',As/omega)\n",
    "\n",
    "\n"
   ]
  }
 ],
 "metadata": {
  "kernelspec": {
   "display_name": "Python 3.9.12 ('base')",
   "language": "python",
   "name": "python3"
  },
  "language_info": {
   "codemirror_mode": {
    "name": "ipython",
    "version": 3
   },
   "file_extension": ".py",
   "mimetype": "text/x-python",
   "name": "python",
   "nbconvert_exporter": "python",
   "pygments_lexer": "ipython3",
   "version": "3.9.12"
  },
  "orig_nbformat": 4,
  "vscode": {
   "interpreter": {
    "hash": "25a0bc904ed641a24e0084eb7eb2dfbdddac8ee0bb634c9a8a1445208883b478"
   }
  }
 },
 "nbformat": 4,
 "nbformat_minor": 2
}
