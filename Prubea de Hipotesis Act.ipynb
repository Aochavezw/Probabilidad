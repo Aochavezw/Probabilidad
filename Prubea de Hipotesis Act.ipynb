{
 "cells": [
  {
   "cell_type": "code",
   "execution_count": 2,
   "metadata": {},
   "outputs": [],
   "source": [
    "import numpy as np\n",
    "import pandas as pd\n",
    "import scipy.stats as stats\n",
    "import matplotlib.pyplot as plt\n",
    "%matplotlib inline"
   ]
  },
  {
   "cell_type": "code",
   "execution_count": 2,
   "metadata": {},
   "outputs": [],
   "source": [
    "# comienza aquí el código"
   ]
  },
  {
   "attachments": {},
   "cell_type": "markdown",
   "id": "b9b34de6",
   "metadata": {},
   "source": [
    "# Ejercicio 1\n",
    "\n",
    "- Un inventor ha desarrollado un nuevo motor para podadoras de bajo consumo energético. Afirma que el motor funcionará continuamente durante más de 5 horas (300 minutos) con un solo galón de gasolina.\n",
    "\n",
    "- El motor de podadoras de la marca líder funciona durante 300 minutos con un galón de gasolina.\n",
    "\n",
    "- De su stock de motores, el inventor selecciona una muestra aleatoria de 50 motores para probarlos. Los motores seleccionados funcionan en promedio 305 minutos, con una desviación estándar de 30 minutos.\n",
    "\n",
    "- Probar la hipótesis de que el tiempo medio de funcionamiento es superior a 300 minutos. Utilizar un nivel de significación de 0.05.\n"
   ]
  },
  {
   "cell_type": "code",
   "execution_count": 5,
   "id": "a1fdc4ca",
   "metadata": {},
   "outputs": [
    {
     "name": "stdout",
     "output_type": "stream",
     "text": [
      "Se acepta H0\n"
     ]
    }
   ],
   "source": [
    "sig=0.05\n",
    "t=300\n",
    "n=50\n",
    "m=305\n",
    "s=30\n",
    "\n",
    "den=s/(n**0.5)\n",
    "\n",
    "z_score= (m-t)/(den)\n",
    "z_ppf=stats.norm.ppf(1-sig)\n",
    "p_value= 1 - stats.norm(0,1).cdf(z_score)\n",
    "\n",
    "z_score, z_ppf, p_value\n",
    "\n",
    "if p_value<0.005:\n",
    "    print('Se rechaza H0')\n",
    "else:\n",
    "    print('Se acepta H0')"
   ]
  },
  {
   "attachments": {},
   "cell_type": "markdown",
   "id": "dbb277e8",
   "metadata": {},
   "source": [
    "# Ejercicio 2\n",
    "\n",
    "- Un fabricante de aderezos para ensaladas utiliza una máquina para dispensar los ingredientes líquidos en botellas que se mueven a lo largo de una línea de llenado. La dispensadora funciona correctamente con una cantidad de 8 onzas.\n",
    "\n",
    "- Supongamos que la cantidad media dispensada en una muestra de 35 botellas es de 7.91 onzas con una varianza de 0.03 onzas al cuadrado. \n",
    "\n",
    "- Determinar si la máquina debe detenerse y la producción debe esperar hasta que se repare la máquina.\n",
    "\n",
    "- La pérdida de producción derivada de una parada es tan grande que la dirección cree que el nivel de significación en el análisis debe ser del 99%.\n"
   ]
  },
  {
   "cell_type": "code",
   "execution_count": 7,
   "id": "4aba5311",
   "metadata": {},
   "outputs": [
    {
     "name": "stdout",
     "output_type": "stream",
     "text": [
      "Se rechaza H0\n"
     ]
    }
   ],
   "source": [
    "sig=0.01\n",
    "t=8\n",
    "n=35\n",
    "m=7.91\n",
    "s=0.03\n",
    "\n",
    "den=s/(n**0.5)\n",
    "\n",
    "z_score= (m-t)/(den)\n",
    "ppf_lower = stats.norm(0,1).ppf(sig/2)  #inverse of cdf in sig/2\n",
    "ppf_upper = stats.norm(0,1).ppf(1-sig/2)\n",
    "p_value= stats.norm(0,1).cdf(z_score)\n",
    "\n",
    "z_score, z_ppf, p_value\n",
    "\n",
    "if p_value<0.005:\n",
    "    print('Se rechaza H0')\n",
    "else:\n",
    "    print('Se acepta H0')"
   ]
  },
  {
   "cell_type": "code",
   "execution_count": 10,
   "id": "46937d32",
   "metadata": {},
   "outputs": [
    {
     "data": {
      "text/plain": [
       "Ttest_1sampResult(statistic=-18.933567435880107, pvalue=1.2353523269601707e-19)"
      ]
     },
     "execution_count": 10,
     "metadata": {},
     "output_type": "execute_result"
    }
   ],
   "source": [
    "sample = stats.t(df=n-1, loc= m, scale= s).rvs(n)\n",
    "stats.ttest_1samp(sample, t, alternative= 'two-sided') #muestras independientes"
   ]
  },
  {
   "attachments": {},
   "cell_type": "markdown",
   "id": "6fc613ec",
   "metadata": {},
   "source": [
    "# Ejercicio 3\n",
    "\n",
    "- Una empresa de bebidas afirma que sus botellas de agua tienen exactamente 16 onzas. Las muestras se encuentran en el documento “wáter.csv”\n",
    "\n",
    "- Elaborar una prueba de hipótesis con alfa = 1%.\n",
    "\n",
    "- Calcular manualmente y con API para comparar ambos resultados\n",
    "\n"
   ]
  },
  {
   "cell_type": "code",
   "execution_count": 26,
   "id": "5e4fbc1d",
   "metadata": {},
   "outputs": [
    {
     "name": "stdout",
     "output_type": "stream",
     "text": [
      "Se acepta H0\n"
     ]
    },
    {
     "data": {
      "text/plain": [
       "Ttest_1sampResult(statistic=86.41839160085657, pvalue=1.8846048208409125e-31)"
      ]
     },
     "execution_count": 26,
     "metadata": {},
     "output_type": "execute_result"
    }
   ],
   "source": [
    "bottles = pd.read_csv('data//water.csv').rename(columns={bottles.columns[0]: 'botella_id', bottles.columns[1]: 'ozs'})\n",
    "\n",
    "sig=0.01\n",
    "t=16\n",
    "n=850\n",
    "m=bottles['ozs'].mean()\n",
    "s=bottles['ozs'].std()\n",
    "\n",
    "den=s/(n**0.5)\n",
    "\n",
    "z_score= (m-t)/(den)\n",
    "ppf_lower = stats.norm(0,1).ppf(sig/2)  #inverse of cdf in sig/2\n",
    "ppf_upper = stats.norm(0,1).ppf(1-sig/2)\n",
    "p_value= stats.norm(0,1).cdf(z_score)\n",
    "\n",
    "z_score, z_ppf, p_value\n",
    "\n",
    "if p_value<0.005:\n",
    "    print('Se rechaza H0')\n",
    "else:\n",
    "    print('Se acepta H0')\n"
   ]
  },
  {
   "attachments": {},
   "cell_type": "markdown",
   "id": "bee01326",
   "metadata": {},
   "source": [
    "# Ejercicio 4\n",
    "- La escala Brinell es una medida de la dureza de un material. Un ingeniero supone que la puntuación Brinell media de todas las piezas de cierto tipo de material (hierro dúctil recocido subcríticamente) no es igual a 170.\n",
    "\n",
    "- El ingeniero mide 25 piezas de este tipo de material y calcula que la media de la muestra es de 174.52 y la desviación estándar de la muestra es de 10.31.\n",
    "\n",
    "- Elaborar una prueba de hipótesis de que la verdadera puntuación Brinell media no es igual a 170, así como el correspondiente intervalo de confianza con alfa = 0.01.\n",
    "\n",
    "- Prueba de dos colas\n",
    "\n",
    "H0: x = 170\n",
    "\n",
    "H1: x =/= 170"
   ]
  },
  {
   "cell_type": "code",
   "execution_count": 27,
   "id": "69d4a052",
   "metadata": {},
   "outputs": [
    {
     "name": "stdout",
     "output_type": "stream",
     "text": [
      "Se acepta H0\n"
     ]
    },
    {
     "data": {
      "text/plain": [
       "Ttest_1sampResult(statistic=4.444432771716434, pvalue=0.00017059868553023292)"
      ]
     },
     "execution_count": 27,
     "metadata": {},
     "output_type": "execute_result"
    }
   ],
   "source": [
    "sig=0.01\n",
    "t=170\n",
    "n=25\n",
    "m=174.52\n",
    "s=10.31\n",
    "\n",
    "den=s/(n**0.5)\n",
    "\n",
    "t_score= (m-t)/(den)\n",
    "p_value= stats.norm(0,1).cdf(z_score)\n",
    "\n",
    "t_score, p_value\n",
    "\n",
    "if p_value<0.005:\n",
    "    print('Se rechaza H0')\n",
    "else:\n",
    "    print('Se acepta H0')\n",
    "\n",
    "sample = stats.t(df=n-1, loc= m, scale= s).rvs(n)\n",
    "stats.ttest_1samp(sample, t, alternative= 'two-sided') #muestras independientes"
   ]
  },
  {
   "attachments": {},
   "cell_type": "markdown",
   "id": "59d12ebd",
   "metadata": {},
   "source": [
    "# Ejercicio 5\n",
    "- Matías tiene ocho años, y estableció un tiempo medio de 16.43 segundos para nadar 22 metros de estilo libre. Su padre, Paco, pensaba que Jeffrey podría disminuir este tiempo usando goggles. Paco le compró a Jeffrey un nuevo par de goggles y cronometró a Matías durante 15 pruebas de 22 metros estilo libre.\n",
    "\n",
    "- En las 15 pruebas, el tiempo medio de Matías fue de 16 segundos, con una desviación estándar de 0.8 segundos.\n",
    "\n",
    "- Paco pensó que las gafas ayudaban a Matías a nadar más rápido que antes. Elaborar una prueba de hipótesis utilizando un alfa= 0.05.\n",
    "\n",
    "- Prueba de una cola:\n",
    "\n",
    "H0: x no es < 16.43 segundos\n",
    "\n",
    "\n",
    "H1: x < 16.43 segundos"
   ]
  },
  {
   "cell_type": "code",
   "execution_count": 33,
   "id": "f784398c",
   "metadata": {},
   "outputs": [
    {
     "name": "stdout",
     "output_type": "stream",
     "text": [
      "Se acepta H0\n"
     ]
    },
    {
     "data": {
      "text/plain": [
       "(-2.081728548586485, 0.5803359388619604)"
      ]
     },
     "execution_count": 33,
     "metadata": {},
     "output_type": "execute_result"
    }
   ],
   "source": [
    "sig=0.05\n",
    "t=16.43\n",
    "n=15\n",
    "m=16\n",
    "s=0.8\n",
    "\n",
    "den=s/(n**0.5)\n",
    "\n",
    "t_score= (m-t)/(den)\n",
    "p_value= stats.t.cdf(x = den, df = n - 1)\n",
    "t_score, p_value\n",
    "\n",
    "if p_value<0.005:\n",
    "    print('Se rechaza H0')\n",
    "else:\n",
    "    print('Se acepta H0')\n",
    "\n",
    "sample = stats.t(df=n-1, loc= m, scale= s).rvs(n)\n",
    "stats.ttest_1samp(sample, t, alternative= 'less') #muestras independientes\n",
    "\n",
    "t_score, p_value\n"
   ]
  },
  {
   "attachments": {},
   "cell_type": "markdown",
   "id": "6648613f",
   "metadata": {},
   "source": [
    "# Ejercicio 6\n",
    "- El corcho natural de las botellas de vino se deteriora, por lo que el vino de las botellas puede contaminarse. El artículo \"Effects of Bottle Closure Type on Consumer Perceptions of Wine Quality\" (Amer. J. of Enology and Viticulture, 2007: 182-191) informó de que, en una cata de chardonnays comerciales, 16 de 91 botellas se consideraron estropeadas en cierta medida por características asociadas al corcho.\n",
    "\n",
    "- ¿Esta información es suficiente para concluir que más del 15% de todas esas botellas están contaminadas de esta manera?\n",
    "\n",
    "- Utilizar un nivel de significancia igual a 0.10.\n",
    "\n",
    "Prueba de una cola:\n",
    "\n",
    "H0: x no es > 0.15\n",
    "\n",
    "H1: x > 0.15"
   ]
  },
  {
   "cell_type": "code",
   "execution_count": 36,
   "id": "302f0a01",
   "metadata": {},
   "outputs": [
    {
     "name": "stdout",
     "output_type": "stream",
     "text": [
      "Se acepta H0\n"
     ]
    },
    {
     "data": {
      "text/plain": [
       "(0.6471395393061175, 1.2815515655446004, 0.2587708186734847)"
      ]
     },
     "execution_count": 36,
     "metadata": {},
     "output_type": "execute_result"
    }
   ],
   "source": [
    "\n",
    "proporcion = 16/91\n",
    "test = 0.15\n",
    "muestra = 91\n",
    "alpha = 0.10\n",
    "\n",
    "divisor = (proporcion*(1-proporcion)/muestra)**0.5\n",
    "z_score = (proporcion - test)/divisor\n",
    "\n",
    "ppf = stats.norm(0,1).ppf(1-alpha)\n",
    "p_value = 1-stats.norm(0,1).cdf(z_score)\n",
    "\n",
    "\n",
    "if p_value<0.005:\n",
    "    print('Se rechaza H0')\n",
    "else:\n",
    "    print('Se acepta H0')\n",
    "\n",
    "z_score, ppf, p_value"
   ]
  }
 ],
 "metadata": {
  "kernelspec": {
   "display_name": "base",
   "language": "python",
   "name": "python3"
  },
  "language_info": {
   "codemirror_mode": {
    "name": "ipython",
    "version": 3
   },
   "file_extension": ".py",
   "mimetype": "text/x-python",
   "name": "python",
   "nbconvert_exporter": "python",
   "pygments_lexer": "ipython3",
   "version": "3.9.12"
  },
  "vscode": {
   "interpreter": {
    "hash": "25a0bc904ed641a24e0084eb7eb2dfbdddac8ee0bb634c9a8a1445208883b478"
   }
  }
 },
 "nbformat": 4,
 "nbformat_minor": 5
}
